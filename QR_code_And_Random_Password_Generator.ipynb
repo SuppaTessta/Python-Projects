{
  "nbformat": 4,
  "nbformat_minor": 0,
  "metadata": {
    "colab": {
      "provenance": [],
      "collapsed_sections": [
        "MI5bnuwbyoOy",
        "4e2nxChq3T4y"
      ],
      "authorship_tag": "ABX9TyOyZOl+WYb/yODlPJCJEQEN",
      "include_colab_link": true
    },
    "kernelspec": {
      "name": "python3",
      "display_name": "Python 3"
    },
    "language_info": {
      "name": "python"
    }
  },
  "cells": [
    {
      "cell_type": "markdown",
      "metadata": {
        "id": "view-in-github",
        "colab_type": "text"
      },
      "source": [
        "<a href=\"https://colab.research.google.com/github/SuppaTessta/Python-Projects/blob/main/QR_code_And_Random_Password_Generator.ipynb\" target=\"_parent\"><img src=\"https://colab.research.google.com/assets/colab-badge.svg\" alt=\"Open In Colab\"/></a>"
      ]
    },
    {
      "cell_type": "markdown",
      "source": [
        "# **Random Password Generator**"
      ],
      "metadata": {
        "id": "MI5bnuwbyoOy"
      }
    },
    {
      "cell_type": "code",
      "execution_count": null,
      "metadata": {
        "id": "awo1J7o-sPMA"
      },
      "outputs": [],
      "source": [
        "import random\n",
        "import string"
      ]
    },
    {
      "cell_type": "code",
      "source": [
        "n = int(input(\"Enter the length of the password: \"))\n",
        "s = string.ascii_letters + string.digits + string.punctuation\n",
        "print(\"Password is being generated from - \" + s)"
      ],
      "metadata": {
        "colab": {
          "base_uri": "https://localhost:8080/"
        },
        "id": "vzrMu4Rnu2O8",
        "outputId": "0cadef4d-ac0c-42bf-ca9b-16b341b0b942"
      },
      "execution_count": null,
      "outputs": [
        {
          "output_type": "stream",
          "name": "stdout",
          "text": [
            "Enter the length of the password: 8\n",
            "Password is being generated from - abcdefghijklmnopqrstuvwxyzABCDEFGHIJKLMNOPQRSTUVWXYZ0123456789!\"#$%&'()*+,-./:;<=>?@[\\]^_`{|}~\n"
          ]
        }
      ]
    },
    {
      "cell_type": "code",
      "source": [
        "passwd = \"\"\n",
        "for i in range(n):\n",
        "  passwd += random.choice(s)\n",
        "\n",
        "print(\"Password is - \" + passwd)"
      ],
      "metadata": {
        "colab": {
          "base_uri": "https://localhost:8080/"
        },
        "id": "DRmN9yLMuNXm",
        "outputId": "9cfbf611-a6b0-4a6d-c182-952909886550"
      },
      "execution_count": null,
      "outputs": [
        {
          "output_type": "stream",
          "name": "stdout",
          "text": [
            "Password is - :=iu3%=2\n"
          ]
        }
      ]
    },
    {
      "cell_type": "markdown",
      "source": [
        "# **QR Code Generator**"
      ],
      "metadata": {
        "id": "4e2nxChq3T4y"
      }
    },
    {
      "cell_type": "code",
      "source": [
        "!pip install qrcode\n",
        "import qrcode"
      ],
      "metadata": {
        "colab": {
          "base_uri": "https://localhost:8080/"
        },
        "id": "zkTHyEWF3bQI",
        "outputId": "1035b644-f6fc-4e8a-9965-a1e748699d29"
      },
      "execution_count": null,
      "outputs": [
        {
          "output_type": "stream",
          "name": "stdout",
          "text": [
            "Collecting qrcode\n",
            "  Downloading qrcode-8.2-py3-none-any.whl.metadata (17 kB)\n",
            "Downloading qrcode-8.2-py3-none-any.whl (45 kB)\n",
            "\u001b[?25l   \u001b[90m━━━━━━━━━━━━━━━━━━━━━━━━━━━━━━━━━━━━━━━━\u001b[0m \u001b[32m0.0/46.0 kB\u001b[0m \u001b[31m?\u001b[0m eta \u001b[36m-:--:--\u001b[0m\r\u001b[2K   \u001b[90m━━━━━━━━━━━━━━━━━━━━━━━━━━━━━━━━━━━━━━━━\u001b[0m \u001b[32m46.0/46.0 kB\u001b[0m \u001b[31m3.4 MB/s\u001b[0m eta \u001b[36m0:00:00\u001b[0m\n",
            "\u001b[?25hInstalling collected packages: qrcode\n",
            "Successfully installed qrcode-8.2\n"
          ]
        }
      ]
    },
    {
      "cell_type": "code",
      "source": [
        "# Generating qr code from link\n",
        "'''\n",
        "Can only make qr code of publically available files.\n",
        "QR code made from restricted files could not be accessed from other devices.\n",
        "'''\n",
        "\n",
        "data = 'https://upload.wikimedia.org/wikipedia/commons/thumb/c/c3/Python-logo-notext.svg/1024px-Python-logo-notext.svg.png'\n",
        "img = qrcode.make(data)\n",
        "img.save('QRcode.png')"
      ],
      "metadata": {
        "id": "0YxZkNdm34ot"
      },
      "execution_count": null,
      "outputs": []
    }
  ]
}